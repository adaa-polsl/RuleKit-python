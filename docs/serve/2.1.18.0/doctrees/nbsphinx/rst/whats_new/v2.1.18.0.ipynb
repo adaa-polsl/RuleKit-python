{
 "cells": [
  {
   "cell_type": "markdown",
   "metadata": {},
   "source": [
    "# What's new in RuleKit version 2.1.18.0?\n",
    "\n",
    "This release mainly focuses on fixing various inconsistencies between this package and the original Java RuleKit v2 library. \n",
    "\n",
    "### 1. Add utility function for reading .arff files.\n",
    "\n",
    "The ARFF file format was originally created by the Machine Learning Project at the University of Waikato's Department of Computer Science for use with Weka machine learning software. This format, once popular, has now become rather niche. However, some older but popular public benchmark datasets are still available as arff files. \n",
    "\n",
    "Modern Python hovewer lacks a good package for reading such files. Most exsiting examples on the internet are using `scipy.io.arff` package. However, this package has some drawbacks that can be problematic (they certainly were in our own experiments). First of all, it does not read the data as pandas DataFrames. Although the returned data can be easily converted into a DataFrame, it still fails to properly encode string columns, leaving them as bytes. We also encountered problems parsing empty values, especially in numeric columns. \n",
    "\n",
    "After encountering all these problems and drinking considerable amounts of coffee ☕ to fix all sorts of strange bugs they caused, we decided to add a custom function for reading arff files to this package. It is not a completely new implementation and uses `scipy.io.arff`. It fixes the previously mentioned problems, and also returns a ready-to-use pandas DataFrame compatible with the models available in this package. Example below. "
   ]
  },
  {
   "cell_type": "code",
   "execution_count": 1,
   "metadata": {
    "execution": {
     "iopub.execute_input": "2024-09-09T08:22:11.902346Z",
     "iopub.status.busy": "2024-09-09T08:22:11.902346Z",
     "iopub.status.idle": "2024-09-09T08:22:12.783431Z",
     "shell.execute_reply": "2024-09-09T08:22:12.782278Z"
    }
   },
   "outputs": [
    {
     "ename": "FileNotFoundError",
     "evalue": "[Errno 2] No such file or directory: './tests/additional_resources/cholesterol.arff'",
     "output_type": "error",
     "traceback": [
      "\u001b[1;31m---------------------------------------------------------------------------\u001b[0m",
      "\u001b[1;31mFileNotFoundError\u001b[0m                         Traceback (most recent call last)",
      "Cell \u001b[1;32mIn[1], line 4\u001b[0m\n\u001b[0;32m      1\u001b[0m \u001b[38;5;28;01mimport\u001b[39;00m \u001b[38;5;21;01mpandas\u001b[39;00m \u001b[38;5;28;01mas\u001b[39;00m \u001b[38;5;21;01mpd\u001b[39;00m\n\u001b[0;32m      2\u001b[0m \u001b[38;5;28;01mfrom\u001b[39;00m \u001b[38;5;21;01mrulekit\u001b[39;00m\u001b[38;5;21;01m.\u001b[39;00m\u001b[38;5;21;01marff\u001b[39;00m \u001b[38;5;28;01mimport\u001b[39;00m read_arff\n\u001b[1;32m----> 4\u001b[0m df: pd\u001b[38;5;241m.\u001b[39mDataFrame \u001b[38;5;241m=\u001b[39m \u001b[43mread_arff\u001b[49m\u001b[43m(\u001b[49m\u001b[38;5;124;43m'\u001b[39;49m\u001b[38;5;124;43m./tests/additional_resources/cholesterol.arff\u001b[39;49m\u001b[38;5;124;43m'\u001b[39;49m\u001b[43m)\u001b[49m\n",
      "File \u001b[1;32m~\\OneDrive\\Pulpit\\EMAG\\GIT\\PythonRulekit\\docs\\doc_env\\lib\\site-packages\\rulekit\\arff.py:25\u001b[0m, in \u001b[0;36mread_arff\u001b[1;34m(file_path_or_file, encoding)\u001b[0m\n\u001b[0;32m     11\u001b[0m \u001b[38;5;28;01mdef\u001b[39;00m \u001b[38;5;21mread_arff\u001b[39m(file_path_or_file: Union[\u001b[38;5;28mstr\u001b[39m, io\u001b[38;5;241m.\u001b[39mIOBase], encoding: \u001b[38;5;28mstr\u001b[39m \u001b[38;5;241m=\u001b[39m \u001b[38;5;124m\"\u001b[39m\u001b[38;5;124mutf-8\u001b[39m\u001b[38;5;124m\"\u001b[39m) \u001b[38;5;241m-\u001b[39m\u001b[38;5;241m>\u001b[39m pd\u001b[38;5;241m.\u001b[39mDataFrame:\n\u001b[0;32m     12\u001b[0m \u001b[38;5;250m    \u001b[39m\u001b[38;5;124;03m\"\"\"Reads an .arff file and returns a pandas DataFrame.\u001b[39;00m\n\u001b[0;32m     13\u001b[0m \n\u001b[0;32m     14\u001b[0m \u001b[38;5;124;03m    This function offers a more convenient interface to read .arff files\u001b[39;00m\n\u001b[1;32m   (...)\u001b[0m\n\u001b[0;32m     23\u001b[0m \u001b[38;5;124;03m        pd.DataFrame: pandas DataFrame with the data\u001b[39;00m\n\u001b[0;32m     24\u001b[0m \u001b[38;5;124;03m    \"\"\"\u001b[39;00m\n\u001b[1;32m---> 25\u001b[0m     df \u001b[38;5;241m=\u001b[39m pd\u001b[38;5;241m.\u001b[39mDataFrame(\u001b[43marff\u001b[49m\u001b[38;5;241;43m.\u001b[39;49m\u001b[43mloadarff\u001b[49m\u001b[43m(\u001b[49m\u001b[43mfile_path_or_file\u001b[49m\u001b[43m)\u001b[49m[\u001b[38;5;241m0\u001b[39m])\n\u001b[0;32m     26\u001b[0m     \u001b[38;5;66;03m# code to change encoding of the file\u001b[39;00m\n\u001b[0;32m     27\u001b[0m     decoded_df: pd\u001b[38;5;241m.\u001b[39mDataFrame \u001b[38;5;241m=\u001b[39m df\u001b[38;5;241m.\u001b[39mselect_dtypes([np\u001b[38;5;241m.\u001b[39mobject_])\n",
      "File \u001b[1;32m~\\OneDrive\\Pulpit\\EMAG\\GIT\\PythonRulekit\\docs\\doc_env\\lib\\site-packages\\scipy\\io\\arff\\_arffread.py:802\u001b[0m, in \u001b[0;36mloadarff\u001b[1;34m(f)\u001b[0m\n\u001b[0;32m    800\u001b[0m     ofile \u001b[38;5;241m=\u001b[39m f\n\u001b[0;32m    801\u001b[0m \u001b[38;5;28;01melse\u001b[39;00m:\n\u001b[1;32m--> 802\u001b[0m     ofile \u001b[38;5;241m=\u001b[39m \u001b[38;5;28;43mopen\u001b[39;49m\u001b[43m(\u001b[49m\u001b[43mf\u001b[49m\u001b[43m)\u001b[49m\n\u001b[0;32m    803\u001b[0m \u001b[38;5;28;01mtry\u001b[39;00m:\n\u001b[0;32m    804\u001b[0m     \u001b[38;5;28;01mreturn\u001b[39;00m _loadarff(ofile)\n",
      "\u001b[1;31mFileNotFoundError\u001b[0m: [Errno 2] No such file or directory: './tests/additional_resources/cholesterol.arff'"
     ]
    }
   ],
   "source": [
    "import pandas as pd\n",
    "from rulekit.arff import read_arff\n",
    "\n",
    "df: pd.DataFrame = read_arff('./tests/additional_resources/cholesterol.arff')"
   ]
  },
  {
   "cell_type": "markdown",
   "metadata": {},
   "source": [
    "### 2. Add ability to write verbose rule induction process logs to the file.\n",
    "\n",
    "The original RuleKit provides detailed logs of the entire rule induction process. Such logs may not be of interest to the average user, but may be of value to others. They can also be helpful in the debugging process (they certainly were for us).\n",
    "\n",
    "To configure such logs you can use `RuleKit` class:"
   ]
  },
  {
   "cell_type": "code",
   "execution_count": 2,
   "metadata": {
    "execution": {
     "iopub.execute_input": "2024-09-09T08:22:12.807457Z",
     "iopub.status.busy": "2024-09-09T08:22:12.807457Z",
     "iopub.status.idle": "2024-09-09T08:22:12.814413Z",
     "shell.execute_reply": "2024-09-09T08:22:12.813577Z"
    }
   },
   "outputs": [],
   "source": [
    "from rulekit import RuleKit\n",
    "\n",
    "RuleKit.configure_java_logger(\n",
    "    log_file_path='./java.logs',\n",
    "    verbosity_level=1\n",
    ")\n",
    "# train your model later"
   ]
  },
  {
   "cell_type": "markdown",
   "metadata": {},
   "source": [
    "### 3. Add validation of the models parameters configuration.\n",
    "\n",
    "This package acts as a wrapper for the original RuleKit library written in Java, offering an analogous but more Python-like API. However, this architecture has led to many bugs in the past. Most of them were due to differences between the parameter values of models configured in Python and their values set in Java. In this version, we have added automatic validation, which compares the parameter values configured by the user with those configured in Java and reports the corresponding `rulekit.exceptions.RuleKitMisconfigurationException` exception. However, this exception **should not** occur during normal use of this package and was added mainly to make debugging easier and prevent such bugs in the future. \n",
    "\n",
    "### Fixed issues\n",
    "* Inconsistent results of induction for survival [#22](https://github.com/adaa-polsl/RuleKit-python/issues/22) \n",
    "* Fixed numerous inconsistencies between this package and the original Java RuleKit v2 library. "
   ]
  }
 ],
 "metadata": {
  "kernelspec": {
   "display_name": "env",
   "language": "python",
   "name": "python3"
  },
  "language_info": {
   "codemirror_mode": {
    "name": "ipython",
    "version": 3
   },
   "file_extension": ".py",
   "mimetype": "text/x-python",
   "name": "python",
   "nbconvert_exporter": "python",
   "pygments_lexer": "ipython3",
   "version": "3.9.10"
  }
 },
 "nbformat": 4,
 "nbformat_minor": 2
}
