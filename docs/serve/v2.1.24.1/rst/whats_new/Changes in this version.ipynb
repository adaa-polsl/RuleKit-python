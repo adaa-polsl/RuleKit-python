{
 "cells": [
  {
   "cell_type": "markdown",
   "metadata": {},
   "source": [
    "# What's new in RuleKit version 2.1.24.0?\n",
    "\n",
    "\n",
    "### 1. Revert breaking changes in expert rules induction for regression and survival \n",
    "The latest version 2.1.21.0 introduced some groundbreaking changes, which you can read more\n",
    "about them in the latest [release note](https://github.com/adaa-polsl/RuleKit-python/releases/tag/v2.1.21.0).\n",
    "Now rules and expert conditions can be defined in both the old and new formats, see example below."
   ]
  },
  {
   "cell_type": "code",
   "execution_count": 1,
   "metadata": {
    "execution": {
     "iopub.execute_input": "2025-01-07T11:29:57.553056Z",
     "iopub.status.busy": "2025-01-07T11:29:57.553056Z",
     "iopub.status.idle": "2025-01-07T11:29:57.563799Z",
     "shell.execute_reply": "2025-01-07T11:29:57.562732Z"
    }
   },
   "outputs": [],
   "source": [
    "# both variants will work the same\n",
    "expert_rules = [\n",
    "    (\n",
    "        'rule-0',\n",
    "        'IF [[CD34kgx10d6 = (-inf, 10.0)]] AND [[extcGvHD = {0}]] THEN survival_status = {NaN}'\n",
    "    ),\n",
    "    (\n",
    "        'rule-0',\n",
    "        'IF [[CD34kgx10d6 = (-inf, 10.0)]] AND [[extcGvHD = {0}]] THEN'\n",
    "    ),\n",
    "]"
   ]
  },
  {
   "cell_type": "markdown",
   "metadata": {},
   "source": [
    "### 2. Upgrade to new version of RuleKit\n",
    "\n",
    "In the new version of the Java RuleKit library, many bugs regarding expert induction have been corrected."
   ]
  },
  {
   "cell_type": "markdown",
   "metadata": {},
   "source": [
    "### Other changes\n",
    "\n",
    "* Improve flake8 score\n",
    "* Add more unit tests."
   ]
  }
 ],
 "metadata": {
  "kernelspec": {
   "display_name": "tutorials_env",
   "language": "python",
   "name": "python3"
  },
  "language_info": {
   "codemirror_mode": {
    "name": "ipython",
    "version": 3
   },
   "file_extension": ".py",
   "mimetype": "text/x-python",
   "name": "python",
   "nbconvert_exporter": "python",
   "pygments_lexer": "ipython3",
   "version": "3.9.10"
  }
 },
 "nbformat": 4,
 "nbformat_minor": 2
}
